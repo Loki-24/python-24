{
 "cells": [
  {
   "cell_type": "code",
   "execution_count": 2,
   "id": "3a5ba747",
   "metadata": {},
   "outputs": [
    {
     "name": "stdout",
     "output_type": "stream",
     "text": [
      "<class 'dict'>\n"
     ]
    }
   ],
   "source": [
    "import requests\n",
    "products = requests.get('https://dummyjson.com/products')\n",
    "\n",
    "products_dict = products.json()\n",
    "print(type(products_dict))\n"
   ]
  },
  {
   "cell_type": "code",
   "execution_count": 5,
   "id": "3e33a3e1",
   "metadata": {},
   "outputs": [
    {
     "name": "stdout",
     "output_type": "stream",
     "text": [
      "File exist\n"
     ]
    }
   ],
   "source": [
    "import requests\n",
    "import json\n",
    "import os.path\n",
    "products = requests.get('https://dummyjson.com/products')\n",
    "\n",
    "products_dict = products.json()\n",
    "with open('govind-2.json','w') as fp:\n",
    "    json.dump(products_dict,fp)\n",
    "    \n",
    "\n",
    "if os.path.isfile('govind-2.json'):\n",
    "    print (\"File exist\")\n",
    "else:\n",
    "    print (\"File not exist\")"
   ]
  },
  {
   "cell_type": "code",
   "execution_count": null,
   "id": "70ec8ea8",
   "metadata": {},
   "outputs": [],
   "source": []
  }
 ],
 "metadata": {
  "kernelspec": {
   "display_name": "Python 3 (ipykernel)",
   "language": "python",
   "name": "python3"
  },
  "language_info": {
   "codemirror_mode": {
    "name": "ipython",
    "version": 3
   },
   "file_extension": ".py",
   "mimetype": "text/x-python",
   "name": "python",
   "nbconvert_exporter": "python",
   "pygments_lexer": "ipython3",
   "version": "3.7.0"
  }
 },
 "nbformat": 4,
 "nbformat_minor": 5
}
