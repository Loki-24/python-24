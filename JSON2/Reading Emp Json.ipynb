{
 "cells": [
  {
   "cell_type": "code",
   "execution_count": 3,
   "id": "56754841",
   "metadata": {},
   "outputs": [
    {
     "name": "stdout",
     "output_type": "stream",
     "text": [
      "<class 'dict'>\n",
      "{'id': 101, 'name': 'Rahul'}\n",
      "101\n",
      "Rahul\n"
     ]
    }
   ],
   "source": [
    "import json\n",
    "\n",
    "emp  = '''\n",
    "        {\n",
    "         \"id\":101,\n",
    "         \"name\":\"Rahul\"\n",
    "        }\n",
    "       '''\n",
    "\n",
    "#convert json string to python dict object\n",
    "emp_dict=json.loads(emp)\n",
    "print(type(emp_dict))\n",
    "print(emp_dict)\n",
    "\n",
    "print(emp_dict['id'])\n",
    "print(emp_dict['name'])"
   ]
  },
  {
   "cell_type": "code",
   "execution_count": 4,
   "id": "6177fa8b",
   "metadata": {},
   "outputs": [
    {
     "name": "stdout",
     "output_type": "stream",
     "text": [
      "[{'id': 1, 'name': 'Ailene', 'email': 'acopley0@ezinearticles.com', 'gender': 'Female'}, {'id': 2, 'name': 'Augusto', 'email': 'awattinham1@usda.gov', 'gender': 'Male'}, {'id': 3, 'name': 'Eduino', 'email': 'efoxall2@google.it', 'gender': 'Male'}, {'id': 4, 'name': 'Obadiah', 'email': 'oyegorovnin3@woothemes.com', 'gender': 'Male'}, {'id': 5, 'name': 'Levin', 'email': 'lorodane4@1und1.de', 'gender': 'Male'}, {'id': 6, 'name': 'Ki', 'email': 'kjoysey5@over-blog.com', 'gender': 'Female'}, {'id': 7, 'name': 'Pennie', 'email': 'ppetrescu6@google.co.uk', 'gender': 'Male'}, {'id': 8, 'name': 'Levi', 'email': 'ldelmonti7@telegraph.co.uk', 'gender': 'Male'}, {'id': 9, 'name': 'Niles', 'email': 'nchotty8@google.ru', 'gender': 'Male'}, {'id': 10, 'name': 'Sabina', 'email': 'slearned9@deviantart.com', 'gender': 'Female'}, {'id': 11, 'name': 'Billy', 'email': 'baizlewooda@ebay.co.uk', 'gender': 'Male'}, {'id': 12, 'name': 'Nicola', 'email': 'nlisterb@weebly.com', 'gender': 'Male'}, {'id': 13, 'name': 'Teirtza', 'email': 'tmertinc@ovh.net', 'gender': 'Female'}, {'id': 14, 'name': 'Griz', 'email': 'gpiresd@latimes.com', 'gender': 'Male'}, {'id': 15, 'name': 'Kynthia', 'email': 'ksacklere@engadget.com', 'gender': 'Female'}, {'id': 16, 'name': 'Bone', 'email': 'btemprellf@yelp.com', 'gender': 'Male'}, {'id': 17, 'name': 'Salomon', 'email': 'strenearg@live.com', 'gender': 'Male'}, {'id': 18, 'name': 'Alecia', 'email': 'aboolsh@furl.net', 'gender': 'Female'}, {'id': 19, 'name': 'Burgess', 'email': 'bbrindedi@wired.com', 'gender': 'Male'}, {'id': 20, 'name': 'Jerrie', 'email': 'jboshersj@webs.com', 'gender': 'Female'}, {'id': 21, 'name': 'Chrotoem', 'email': 'cstobiek@live.com', 'gender': 'Male'}, {'id': 22, 'name': 'Farly', 'email': 'frosensteinl@fc2.com', 'gender': 'Male'}, {'id': 23, 'name': 'Adamo', 'email': 'aantwism@toplist.cz', 'gender': 'Male'}, {'id': 24, 'name': 'Ardath', 'email': 'apumfreyn@soup.io', 'gender': 'Female'}, {'id': 25, 'name': 'Finn', 'email': 'fdeningtono@whitehouse.gov', 'gender': 'Male'}, {'id': 26, 'name': 'Aleece', 'email': 'amulvihillp@wordpress.org', 'gender': 'Female'}, {'id': 27, 'name': 'Tye', 'email': 'tcornallq@nps.gov', 'gender': 'Male'}, {'id': 28, 'name': 'Clementius', 'email': 'cluetchfordr@rakuten.co.jp', 'gender': 'Male'}, {'id': 29, 'name': 'Abagael', 'email': 'aedes@epa.gov', 'gender': 'Female'}, {'id': 30, 'name': 'Nanice', 'email': 'ncasottit@theguardian.com', 'gender': 'Female'}, {'id': 31, 'name': 'Constantine', 'email': 'cyanceyu@dropbox.com', 'gender': 'Female'}, {'id': 32, 'name': 'Liza', 'email': 'lrobezv@clickbank.net', 'gender': 'Female'}, {'id': 33, 'name': 'Markos', 'email': 'mnevittw@sciencedaily.com', 'gender': 'Male'}, {'id': 34, 'name': 'Cullin', 'email': 'ccrewesx@trellian.com', 'gender': 'Male'}, {'id': 35, 'name': 'Rollie', 'email': 'rmurdochy@adobe.com', 'gender': 'Male'}, {'id': 36, 'name': 'Heath', 'email': 'hgrinstedz@yandex.ru', 'gender': 'Male'}, {'id': 37, 'name': 'Blinny', 'email': 'bjerzak10@pbs.org', 'gender': 'Female'}, {'id': 38, 'name': 'Chickie', 'email': 'cchasmar11@cam.ac.uk', 'gender': 'Female'}, {'id': 39, 'name': 'Noam', 'email': 'nwozencroft12@unicef.org', 'gender': 'Male'}, {'id': 40, 'name': 'Flore', 'email': 'fprate13@ca.gov', 'gender': 'Female'}, {'id': 41, 'name': 'Aristotle', 'email': 'alivzey14@cisco.com', 'gender': 'Male'}, {'id': 42, 'name': 'Indira', 'email': 'iskarin15@com.com', 'gender': 'Female'}, {'id': 43, 'name': 'Barty', 'email': 'bmcgrudder16@imdb.com', 'gender': 'Male'}, {'id': 44, 'name': 'Hally', 'email': 'hgatchel17@plala.or.jp', 'gender': 'Female'}, {'id': 45, 'name': 'Kele', 'email': 'kjacob18@imageshack.us', 'gender': 'Male'}, {'id': 46, 'name': 'Anastasie', 'email': 'abarends19@mozilla.com', 'gender': 'Female'}, {'id': 47, 'name': 'Ardelle', 'email': 'atilbey1a@liveinternet.ru', 'gender': 'Female'}, {'id': 48, 'name': 'Kalle', 'email': 'kdowner1b@oracle.com', 'gender': 'Male'}, {'id': 49, 'name': 'Vin', 'email': 'vlatham1c@ow.ly', 'gender': 'Male'}, {'id': 50, 'name': 'Gaspard', 'email': 'ggiovannilli1d@indiatimes.com', 'gender': 'Male'}]\n"
     ]
    }
   ],
   "source": [
    "import json\n",
    "\n",
    "fp = open('emp.json', 'r')\n",
    "emp_dict=json.load(fp)\n",
    "fp.close()\n",
    "\n",
    "print(emp_dict)"
   ]
  },
  {
   "cell_type": "code",
   "execution_count": null,
   "id": "60895176",
   "metadata": {},
   "outputs": [],
   "source": []
  }
 ],
 "metadata": {
  "kernelspec": {
   "display_name": "Python 3 (ipykernel)",
   "language": "python",
   "name": "python3"
  },
  "language_info": {
   "codemirror_mode": {
    "name": "ipython",
    "version": 3
   },
   "file_extension": ".py",
   "mimetype": "text/x-python",
   "name": "python",
   "nbconvert_exporter": "python",
   "pygments_lexer": "ipython3",
   "version": "3.7.0"
  }
 },
 "nbformat": 4,
 "nbformat_minor": 5
}
