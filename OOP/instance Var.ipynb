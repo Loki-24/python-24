{
 "cells": [
  {
   "cell_type": "code",
   "execution_count": 3,
   "id": "73460afe",
   "metadata": {},
   "outputs": [
    {
     "name": "stdout",
     "output_type": "stream",
     "text": [
      "{'a': 10, 'b': 20, 'c': 30}\n",
      "{'a': 10, 'b': 20, 'c': 30}\n"
     ]
    }
   ],
   "source": [
    "class Test:\n",
    "    def __init__(self):\n",
    "        self.a= 10\n",
    "        self.b= 20\n",
    "    \n",
    "    def m1(self):\n",
    "        self.c= 30\n",
    "    \n",
    "t1 = Test()\n",
    "t1.m1()\n",
    "print(t1.__dict__)\n",
    "t2 = Test()\n",
    "t2.m1()\n",
    "print(t2.__dict__)"
   ]
  },
  {
   "cell_type": "code",
   "execution_count": 6,
   "id": "4bb0b708",
   "metadata": {},
   "outputs": [
    {
     "name": "stdout",
     "output_type": "stream",
     "text": [
      "{'a': 10, 'b': 20}\n",
      "{'a': 10, 'b': 20}\n",
      "{'a': 10, 'b': 20, 'd': 40}\n",
      "{'a': 10, 'b': 20}\n",
      "{'__module__': '__main__', 'c': 30, '__init__': <function Test.__init__ at 0x06F7F6F0>, 'm1': <function Test.m1 at 0x06F7F738>, '__dict__': <attribute '__dict__' of 'Test' objects>, '__weakref__': <attribute '__weakref__' of 'Test' objects>, '__doc__': None}\n"
     ]
    }
   ],
   "source": [
    "class Test:\n",
    "    c = 30  #static var only one copy will create class level\n",
    "    \n",
    "    def __init__(self):\n",
    "        self.a=10\n",
    "        self.b=20\n",
    "    \n",
    "    def m1(self):\n",
    "        self.d = 40\n",
    "t1 = Test()\n",
    "t2 = Test()\n",
    "    \n",
    "print(t1.__dict__)\n",
    "\n",
    "print(t2.__dict__)\n",
    "t1.m1()\n",
    "print(t1.__dict__)\n",
    "\n",
    "print(t2.__dict__)\n",
    "\n",
    "print(Test.__dict__)\n"
   ]
  },
  {
   "cell_type": "code",
   "execution_count": null,
   "id": "7fbe9ab4",
   "metadata": {},
   "outputs": [],
   "source": [
    "\n"
   ]
  }
 ],
 "metadata": {
  "kernelspec": {
   "display_name": "Python 3 (ipykernel)",
   "language": "python",
   "name": "python3"
  },
  "language_info": {
   "codemirror_mode": {
    "name": "ipython",
    "version": 3
   },
   "file_extension": ".py",
   "mimetype": "text/x-python",
   "name": "python",
   "nbconvert_exporter": "python",
   "pygments_lexer": "ipython3",
   "version": "3.7.0"
  }
 },
 "nbformat": 4,
 "nbformat_minor": 5
}
