{
 "cells": [
  {
   "cell_type": "code",
   "execution_count": 3,
   "id": "5823841a",
   "metadata": {},
   "outputs": [
    {
     "name": "stdout",
     "output_type": "stream",
     "text": [
      "45000\n",
      "Account opened successfully\n",
      "Displaying Account Details\n",
      "500\n",
      "45000\n",
      "25000\n"
     ]
    }
   ],
   "source": [
    "class Account:\n",
    "    account_Bal = 45000\n",
    "   \n",
    "    def open_Account(self):\n",
    "        print(\"Account opened successfully\")\n",
    "    def acc_Details(self):\n",
    "        print(\"Displaying Account Details\")\n",
    "\n",
    "class SA(Account):\n",
    "    min_Bal = 500\n",
    "\n",
    "\n",
    "\n",
    "a1 = SA()\n",
    "a2 = SA()\n",
    "\n",
    "print(a1.account_Bal)\n",
    "a1.open_Account()\n",
    "a1.acc_Details()\n",
    "print(a1.min_Bal)\n",
    "\n",
    "    \n",
    "    \n",
    "\n",
    "class CA(Account):\n",
    "    min_Bal = 25000\n",
    "c1 = CA()\n",
    "\n",
    "print(c1.account_Bal)\n",
    "print(c1.min_Bal)"
   ]
  },
  {
   "cell_type": "code",
   "execution_count": null,
   "id": "37843194",
   "metadata": {},
   "outputs": [],
   "source": []
  }
 ],
 "metadata": {
  "kernelspec": {
   "display_name": "Python 3 (ipykernel)",
   "language": "python",
   "name": "python3"
  },
  "language_info": {
   "codemirror_mode": {
    "name": "ipython",
    "version": 3
   },
   "file_extension": ".py",
   "mimetype": "text/x-python",
   "name": "python",
   "nbconvert_exporter": "python",
   "pygments_lexer": "ipython3",
   "version": "3.7.0"
  }
 },
 "nbformat": 4,
 "nbformat_minor": 5
}
