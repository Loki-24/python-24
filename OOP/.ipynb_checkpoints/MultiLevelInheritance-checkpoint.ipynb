{
 "cells": [
  {
   "cell_type": "code",
   "execution_count": 3,
   "id": "ff348278",
   "metadata": {},
   "outputs": [
    {
     "name": "stdout",
     "output_type": "stream",
     "text": [
      "GrandParent Class m1() method\n",
      "Parent Class m2() method\n",
      "Child Class m3() method\n"
     ]
    }
   ],
   "source": [
    "class GrandParent:\n",
    "    def m1(self):\n",
    "        print(\"GrandParent Class m1() method\")\n",
    "class Parent(GrandParent):\n",
    "    def m2(self):\n",
    "        print(\"Parent Class m2() method\")\n",
    "class Child(Parent):\n",
    "    def m3(self):\n",
    "        print(\"Child Class m3() method\")\n",
    "\n",
    "c = Child()\n",
    "c.m1()\n",
    "c.m2()\n",
    "c.m3()\n",
    "\n",
    "    \n",
    "    "
   ]
  },
  {
   "cell_type": "code",
   "execution_count": null,
   "id": "82f41dbc",
   "metadata": {},
   "outputs": [],
   "source": []
  }
 ],
 "metadata": {
  "kernelspec": {
   "display_name": "Python 3 (ipykernel)",
   "language": "python",
   "name": "python3"
  },
  "language_info": {
   "codemirror_mode": {
    "name": "ipython",
    "version": 3
   },
   "file_extension": ".py",
   "mimetype": "text/x-python",
   "name": "python",
   "nbconvert_exporter": "python",
   "pygments_lexer": "ipython3",
   "version": "3.7.0"
  }
 },
 "nbformat": 4,
 "nbformat_minor": 5
}
