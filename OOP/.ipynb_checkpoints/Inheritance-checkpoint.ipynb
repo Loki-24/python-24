{
 "cells": [
  {
   "cell_type": "code",
   "execution_count": null,
   "id": "6cf983f9",
   "metadata": {},
   "outputs": [],
   "source": [
    "class Account:\n",
    "    account_Bal = 45000\n",
    "    def open_Account(self):\n",
    "        print(\"Account opened successfully\")\n",
    "\n",
    "\n",
    "class SA(Account):\n",
    "    \n",
    "    \n",
    "\n",
    "class CA(Account):\n",
    "    pass"
   ]
  }
 ],
 "metadata": {
  "kernelspec": {
   "display_name": "Python 3 (ipykernel)",
   "language": "python",
   "name": "python3"
  },
  "language_info": {
   "codemirror_mode": {
    "name": "ipython",
    "version": 3
   },
   "file_extension": ".py",
   "mimetype": "text/x-python",
   "name": "python",
   "nbconvert_exporter": "python",
   "pygments_lexer": "ipython3",
   "version": "3.7.0"
  }
 },
 "nbformat": 4,
 "nbformat_minor": 5
}
