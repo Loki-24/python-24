{
 "cells": [
  {
   "cell_type": "code",
   "execution_count": 5,
   "id": "0a28dba7",
   "metadata": {},
   "outputs": [
    {
     "name": "stdout",
     "output_type": "stream",
     "text": [
      "constructor will execute automatically\n",
      "constructor will execute automatically\n",
      "{'a': 10, 'b': 20, 'c': 30, 'd': 40}\n",
      "{'a': 10, 'b': 20}\n",
      "{'__module__': '__main__', 'min_Bal': 500, '__init__': <function Account.__init__ at 0x0142CE88>, 'open_Account': <function Account.open_Account at 0x0142CED0>, 'info_Account': <classmethod object at 0x06D73570>, 'calc': <staticmethod object at 0x06D73590>, '__dict__': <attribute '__dict__' of 'Account' objects>, '__weakref__': <attribute '__weakref__' of 'Account' objects>, '__doc__': None, 'Amount': 5000}\n"
     ]
    }
   ],
   "source": [
    "class Account:\n",
    "    min_Bal = 500\n",
    "    \n",
    "    def __init__(self):\n",
    "        print(\"constructor will execute automatically\")\n",
    "        self.a = 10\n",
    "        self.b= 20\n",
    "    def open_Account(self):\n",
    "        self.c= 30\n",
    "        self.d=40\n",
    "        Account.Amount = 5000\n",
    "        \n",
    "    @classmethod\n",
    "    def info_Account(cls):\n",
    "        pass\n",
    "    @staticmethod\n",
    "    def calc(a,b):\n",
    "        pass\n",
    "    \n",
    "    \n",
    "a1 = Account()\n",
    "a2 = Account()\n",
    "a1.open_Account()\n",
    "#a2.open_Account()\n",
    "print(a1.__dict__)\n",
    "\n",
    "print(a2.__dict__)\n",
    "print(Account.__dict__)"
   ]
  },
  {
   "cell_type": "code",
   "execution_count": 8,
   "id": "d654fddc",
   "metadata": {},
   "outputs": [
    {
     "ename": "SyntaxError",
     "evalue": "invalid syntax (3093300911.py, line 18)",
     "output_type": "error",
     "traceback": [
      "\u001b[1;36m  File \u001b[1;32m\"C:\\Users\\IstaSoft\\AppData\\Local\\Temp\\ipykernel_5916\\3093300911.py\"\u001b[1;36m, line \u001b[1;32m18\u001b[0m\n\u001b[1;33m    print(Test.__dict__)  {  a:10, b=20, c:30, d:40, e:50, f:60}\u001b[0m\n\u001b[1;37m                          ^\u001b[0m\n\u001b[1;31mSyntaxError\u001b[0m\u001b[1;31m:\u001b[0m invalid syntax\n"
     ]
    }
   ],
   "source": [
    "class Test:\n",
    "    a = 10\n",
    "    def __init__(self):\n",
    "        Test.b = 20\n",
    "    def m1(self):\n",
    "        Test.c= 30\n",
    "    @classmethod\n",
    "    def m2(cls):\n",
    "        Test.d = 40\n",
    "        cls.e=50\n",
    "    @staticmethod\n",
    "    def m3():\n",
    "        Test.f=60\n",
    "\n",
    "t = Test()\n",
    "        \n",
    "print(t.__dict__)  #{  }  no instance variable\n",
    "print(Test.__dict__) # {  a:10, b=20, c:30, d:40, e:50, f:60}"
   ]
  },
  {
   "cell_type": "code",
   "execution_count": null,
   "id": "8be458b0",
   "metadata": {},
   "outputs": [],
   "source": []
  },
  {
   "cell_type": "code",
   "execution_count": null,
   "id": "6fdf8128",
   "metadata": {},
   "outputs": [],
   "source": []
  }
 ],
 "metadata": {
  "kernelspec": {
   "display_name": "Python 3 (ipykernel)",
   "language": "python",
   "name": "python3"
  },
  "language_info": {
   "codemirror_mode": {
    "name": "ipython",
    "version": 3
   },
   "file_extension": ".py",
   "mimetype": "text/x-python",
   "name": "python",
   "nbconvert_exporter": "python",
   "pygments_lexer": "ipython3",
   "version": "3.7.0"
  }
 },
 "nbformat": 4,
 "nbformat_minor": 5
}
