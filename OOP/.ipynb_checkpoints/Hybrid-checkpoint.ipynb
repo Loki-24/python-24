{
 "cells": [
  {
   "cell_type": "code",
   "execution_count": 1,
   "id": "bbf94e0e",
   "metadata": {},
   "outputs": [],
   "source": [
    "class Parent:\n",
    "    def m1(self):\n",
    "        print(\"Parent Class m1 method() \")\n",
    "\n",
    "class ChildOne(Parent):\n",
    "    def m2(self):\n",
    "        print(\"ChildOne Class m2() method\")\n",
    "class ChildTwo(Parent):\n",
    "    def m3(self):\n",
    "        print(\"ChildTwo class m3 method\")\n",
    "\n",
    "c1 = ChildOne()\n",
    "c2 = ChildTwo()"
   ]
  },
  {
   "cell_type": "code",
   "execution_count": null,
   "id": "63116337",
   "metadata": {},
   "outputs": [],
   "source": []
  }
 ],
 "metadata": {
  "kernelspec": {
   "display_name": "Python 3 (ipykernel)",
   "language": "python",
   "name": "python3"
  },
  "language_info": {
   "codemirror_mode": {
    "name": "ipython",
    "version": 3
   },
   "file_extension": ".py",
   "mimetype": "text/x-python",
   "name": "python",
   "nbconvert_exporter": "python",
   "pygments_lexer": "ipython3",
   "version": "3.7.0"
  }
 },
 "nbformat": 4,
 "nbformat_minor": 5
}
