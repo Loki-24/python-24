{
 "cells": [
  {
   "cell_type": "code",
   "execution_count": 3,
   "id": "dbbf4ca5",
   "metadata": {},
   "outputs": [
    {
     "name": "stdout",
     "output_type": "stream",
     "text": [
      "<__main__.Emp object at 0x06B7B590>\n",
      "112702864\n",
      "112702384\n",
      "112702800\n"
     ]
    }
   ],
   "source": [
    "class Emp:\n",
    "    pass\n",
    "\n",
    "e1 = Emp()\n",
    "e2 = Emp()\n",
    "e3 = Emp()\n",
    "#We can create n no of object, once object created memory location allowcated\n",
    "\n",
    "print(e1)\n",
    "print(id(e1))\n",
    "print(id(e2))\n",
    "print(id(e3))\n"
   ]
  },
  {
   "cell_type": "code",
   "execution_count": 4,
   "id": "342521ca",
   "metadata": {},
   "outputs": [
    {
     "ename": "IndentationError",
     "evalue": "unexpected indent (3807705422.py, line 4)",
     "output_type": "error",
     "traceback": [
      "\u001b[1;36m  File \u001b[1;32m\"C:\\Users\\IstaSoft\\AppData\\Local\\Temp\\ipykernel_18696\\3807705422.py\"\u001b[1;36m, line \u001b[1;32m4\u001b[0m\n\u001b[1;33m    +\u001b[0m\n\u001b[1;37m    ^\u001b[0m\n\u001b[1;31mIndentationError\u001b[0m\u001b[1;31m:\u001b[0m unexpected indent\n"
     ]
    }
   ],
   "source": [
    "class Account:\n",
    "    ''' Account Class Created for Testing - doc string '''\n",
    "    variable\n",
    "       + \n",
    "    methods\n",
    "    \n",
    "# class is template - to construct object. it contians vairable + methods = class members\n",
    "\n",
    "\n",
    "    "
   ]
  },
  {
   "cell_type": "code",
   "execution_count": 7,
   "id": "3030ff34",
   "metadata": {},
   "outputs": [
    {
     "name": "stdout",
     "output_type": "stream",
     "text": [
      " Account class create \n",
      "<__main__.Account object at 0x06B7B630>\n",
      "112703024\n"
     ]
    }
   ],
   "source": [
    "class Account:\n",
    "    ''' Account class create '''\n",
    "    pass\n",
    "\n",
    "a1 = Account()\n",
    "a2 = Account()\n",
    "print(a1.__doc__)\n",
    "print(a1)\n",
    "print(id(a1))"
   ]
  },
  {
   "cell_type": "code",
   "execution_count": 11,
   "id": "5cfdbfcc",
   "metadata": {},
   "outputs": [
    {
     "name": "stdout",
     "output_type": "stream",
     "text": [
      "500\n",
      "Account Opened Succesfully!\n"
     ]
    }
   ],
   "source": [
    "class Account:\n",
    "    min_Bal = 500\n",
    "    \n",
    "    def open_Account(self):\n",
    "        print(\"Account Opened Succesfully!\")\n",
    "        \n",
    "        \n",
    "a1 =Account()\n",
    "print(a1.min_Bal)\n",
    "a1.open_Account()"
   ]
  },
  {
   "cell_type": "code",
   "execution_count": 12,
   "id": "8f1f436e",
   "metadata": {},
   "outputs": [
    {
     "name": "stdout",
     "output_type": "stream",
     "text": [
      "{}\n"
     ]
    }
   ],
   "source": [
    "class Account:\n",
    "    min_Bal = 500\n",
    "    \n",
    "    def open_Account(self):\n",
    "        print(\"Account Opened Succesfully!\")\n",
    "    def deposit_Amount(self):\n",
    "        print(\"Amount Deposited\")\n",
    "    def get_Bal(self):\n",
    "        print(\"Display Bal\")\n",
    "    def withdrawl_Amount(self):\n",
    "        print('Insuffient Funds')\n",
    "    def close_Account(self):\n",
    "        print(\"Closed\")\n",
    "\n",
    "        \n",
    "a1 = Account()\n",
    "print(a1.__dict__)\n",
    "a1.open_Account()\n",
    "a1.deposit_Amount()\n",
    "a1.get_Bal()\n",
    "a1.withdrawl_Amount()\n",
    "a1.close_Account()"
   ]
  },
  {
   "cell_type": "code",
   "execution_count": null,
   "id": "92485ea7",
   "metadata": {},
   "outputs": [],
   "source": []
  }
 ],
 "metadata": {
  "kernelspec": {
   "display_name": "Python 3 (ipykernel)",
   "language": "python",
   "name": "python3"
  },
  "language_info": {
   "codemirror_mode": {
    "name": "ipython",
    "version": 3
   },
   "file_extension": ".py",
   "mimetype": "text/x-python",
   "name": "python",
   "nbconvert_exporter": "python",
   "pygments_lexer": "ipython3",
   "version": "3.7.0"
  }
 },
 "nbformat": 4,
 "nbformat_minor": 5
}
