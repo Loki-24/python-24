{
 "cells": [
  {
   "cell_type": "code",
   "execution_count": 2,
   "id": "e581d639",
   "metadata": {},
   "outputs": [
    {
     "name": "stdout",
     "output_type": "stream",
     "text": [
      "constructor method\n",
      "instance method\n",
      "class method\n",
      "class method\n",
      "30\n"
     ]
    }
   ],
   "source": [
    "class Test:\n",
    "    def __init__(self):\n",
    "        print(\"constructor method\")\n",
    "        \n",
    "    def m1(self):\n",
    "        print(\"instance method\")\n",
    "    @classmethod\n",
    "    def m2(cls):\n",
    "        print('class method')\n",
    "        \n",
    "    @staticmethod\n",
    "    def add(a,b):\n",
    "        print(a+b)\n",
    "        \n",
    "t = Test()\n",
    "t.m1()\n",
    "t.m2()\n",
    "Test.m2()\n",
    "Test.add(10,20)"
   ]
  },
  {
   "cell_type": "code",
   "execution_count": null,
   "id": "06d45e97",
   "metadata": {},
   "outputs": [],
   "source": []
  }
 ],
 "metadata": {
  "kernelspec": {
   "display_name": "Python 3 (ipykernel)",
   "language": "python",
   "name": "python3"
  },
  "language_info": {
   "codemirror_mode": {
    "name": "ipython",
    "version": 3
   },
   "file_extension": ".py",
   "mimetype": "text/x-python",
   "name": "python",
   "nbconvert_exporter": "python",
   "pygments_lexer": "ipython3",
   "version": "3.7.0"
  }
 },
 "nbformat": 4,
 "nbformat_minor": 5
}
