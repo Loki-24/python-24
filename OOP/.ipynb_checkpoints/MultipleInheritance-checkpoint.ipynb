{
 "cells": [
  {
   "cell_type": "code",
   "execution_count": 2,
   "id": "76c099f2",
   "metadata": {},
   "outputs": [
    {
     "name": "stdout",
     "output_type": "stream",
     "text": [
      "Father Class - m1 method\n",
      "Mother Class - m2() method\n",
      "Child class - m3() method\n"
     ]
    }
   ],
   "source": [
    "class Father:\n",
    "    def m1(self):\n",
    "        print(\"Father Class - m1 method\")\n",
    "    \n",
    "class Mother:\n",
    "    def m2(self):\n",
    "        print(\"Mother Class - m2() method\")\n",
    "\n",
    "class Child(Father,Mother):\n",
    "    def m3(self):\n",
    "        print(\"Child class - m3() method\")\n",
    "\n",
    "c = Child()\n",
    "c.m1()\n",
    "c.m2()\n",
    "c.m3()"
   ]
  },
  {
   "cell_type": "code",
   "execution_count": 3,
   "id": "e480009d",
   "metadata": {},
   "outputs": [
    {
     "name": "stdout",
     "output_type": "stream",
     "text": [
      "Father Class - m1 method\n",
      "Child class - m2() method\n"
     ]
    }
   ],
   "source": [
    "class Father:\n",
    "    def m1(self):\n",
    "        print(\"Father Class - m1 method\")\n",
    "    \n",
    "class Mother:\n",
    "    def m1(self):\n",
    "        print(\"Mother Class - m1() method\")\n",
    "\n",
    "class Child(Father,Mother):\n",
    "    def m2(self):\n",
    "        print(\"Child class - m2() method\")\n",
    "\n",
    "c = Child()\n",
    "c.m1()\n",
    "c.m2()"
   ]
  },
  {
   "cell_type": "code",
   "execution_count": 4,
   "id": "fe5ab98e",
   "metadata": {},
   "outputs": [
    {
     "name": "stdout",
     "output_type": "stream",
     "text": [
      "Mother Class - m1() method\n",
      "Child class - m2() method\n"
     ]
    }
   ],
   "source": [
    "class Father:\n",
    "    def m1(self):\n",
    "        print(\"Father Class - m1 method\")\n",
    "    \n",
    "class Mother:\n",
    "    def m1(self):\n",
    "        print(\"Mother Class - m1() method\")\n",
    "\n",
    "class Child(Mother,Father):\n",
    "    def m2(self):\n",
    "        print(\"Child class - m2() method\")\n",
    "\n",
    "c = Child()\n",
    "c.m1()\n",
    "c.m2()"
   ]
  },
  {
   "cell_type": "code",
   "execution_count": null,
   "id": "560f8dda",
   "metadata": {},
   "outputs": [],
   "source": []
  }
 ],
 "metadata": {
  "kernelspec": {
   "display_name": "Python 3 (ipykernel)",
   "language": "python",
   "name": "python3"
  },
  "language_info": {
   "codemirror_mode": {
    "name": "ipython",
    "version": 3
   },
   "file_extension": ".py",
   "mimetype": "text/x-python",
   "name": "python",
   "nbconvert_exporter": "python",
   "pygments_lexer": "ipython3",
   "version": "3.7.0"
  }
 },
 "nbformat": 4,
 "nbformat_minor": 5
}
