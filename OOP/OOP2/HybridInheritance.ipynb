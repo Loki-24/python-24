{
 "cells": [
  {
   "cell_type": "code",
   "execution_count": 1,
   "id": "f78d0257",
   "metadata": {},
   "outputs": [],
   "source": [
    "class Account:\n",
    "    pass\n",
    "\n",
    "class SA(Account):\n",
    "    pass\n",
    "\n",
    "class CA(Account):\n",
    "    pass"
   ]
  },
  {
   "cell_type": "code",
   "execution_count": 5,
   "id": "e342f4d5",
   "metadata": {},
   "outputs": [
    {
     "name": "stdout",
     "output_type": "stream",
     "text": [
      "{'id': 101, 'name': 'Rahul', 'amount': 50000}\n"
     ]
    }
   ],
   "source": [
    "class Account:\n",
    "    def __init__(self):\n",
    "        pass\n",
    "\n",
    "class SA(Account):\n",
    "    def __init__(self,id,name,amount):\n",
    "        self.id = id\n",
    "        self.name = name\n",
    "        self.amount =amount\n",
    "\n",
    "a1 = SA(101,\"Rahul\", 50000)\n",
    "print(a1.__dict__)\n"
   ]
  },
  {
   "cell_type": "code",
   "execution_count": 7,
   "id": "ef18ab55",
   "metadata": {},
   "outputs": [
    {
     "name": "stdout",
     "output_type": "stream",
     "text": [
      "{'amount': 50000}\n"
     ]
    }
   ],
   "source": [
    "class Account:\n",
    "    def __init__(self,id,name):\n",
    "        pass\n",
    "\n",
    "class SA(Account):\n",
    "    def __init__(self,id,name,amount):\n",
    "        super().__init__(id,name)\n",
    "        self.amount =amount\n",
    "\n",
    "a1 = SA(101,\"Rahul\", 50000)\n",
    "print(a1.__dict__)"
   ]
  },
  {
   "cell_type": "code",
   "execution_count": 9,
   "id": "57c5f419",
   "metadata": {},
   "outputs": [
    {
     "name": "stdout",
     "output_type": "stream",
     "text": [
      "Parent Class - constructor\n",
      "Child Class - construtor\n",
      "Parent Class - m1 ()\n",
      "Child Class - m2() method\n"
     ]
    }
   ],
   "source": [
    "class Parent:\n",
    "    def __init__(self):\n",
    "        print(\"Parent Class - constructor\")\n",
    "        \n",
    "    def m1(self):\n",
    "        print(\"Parent Class - m1 ()\")\n",
    "class Child(Parent):\n",
    "    def __init__(self):\n",
    "        super().__init__()\n",
    "        print(\"Child Class - construtor\")\n",
    "        \n",
    "    def m2(self):\n",
    "        print(\"Child Class - m2() method\")\n",
    "\n",
    "c = Child()\n",
    "c.m1()\n",
    "c.m2()"
   ]
  },
  {
   "cell_type": "code",
   "execution_count": 13,
   "id": "d72aab8b",
   "metadata": {},
   "outputs": [
    {
     "name": "stdout",
     "output_type": "stream",
     "text": [
      "A class const\n",
      "A class const\n",
      "B class m1()\n"
     ]
    }
   ],
   "source": [
    "class A:\n",
    "    a = 1000  #static variable\n",
    "    def __init__(self):\n",
    "        print(\"A class const\")\n",
    "        self.b = 100\n",
    "        \n",
    "class B(A):\n",
    "    c  = 2000 #static variable\n",
    "    \n",
    "    def m1(self):\n",
    "        super(). __init__()\n",
    "        print(\"B class m1()\")\n",
    "    \n",
    "\n",
    "obj = B()\n",
    "obj.m1()\n"
   ]
  },
  {
   "cell_type": "code",
   "execution_count": null,
   "id": "42a396df",
   "metadata": {},
   "outputs": [],
   "source": []
  }
 ],
 "metadata": {
  "kernelspec": {
   "display_name": "Python 3 (ipykernel)",
   "language": "python",
   "name": "python3"
  },
  "language_info": {
   "codemirror_mode": {
    "name": "ipython",
    "version": 3
   },
   "file_extension": ".py",
   "mimetype": "text/x-python",
   "name": "python",
   "nbconvert_exporter": "python",
   "pygments_lexer": "ipython3",
   "version": "3.7.0"
  }
 },
 "nbformat": 4,
 "nbformat_minor": 5
}
