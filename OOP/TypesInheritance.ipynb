{
 "cells": [
  {
   "cell_type": "code",
   "execution_count": 8,
   "id": "b7f8cc9f",
   "metadata": {},
   "outputs": [
    {
     "name": "stdout",
     "output_type": "stream",
     "text": [
      "Parent Class m1() method\n",
      "Parent Class m2() method\n",
      "Child Class -m3 () method\n"
     ]
    }
   ],
   "source": [
    "class P:\n",
    "    def m1(self):\n",
    "        print(\"Parent Class m1() method\")\n",
    "    def m2(self):\n",
    "        print(\"Parent Class m2() method\")\n",
    "class C(P):\n",
    "    def m3(self):\n",
    "        print('Child Class -m3 () method')\n",
    "\n",
    "obj = C()\n",
    "obj.m1()\n",
    "obj.m2()\n",
    "obj.m3()"
   ]
  },
  {
   "cell_type": "code",
   "execution_count": null,
   "id": "de5b655c",
   "metadata": {},
   "outputs": [],
   "source": []
  }
 ],
 "metadata": {
  "kernelspec": {
   "display_name": "Python 3 (ipykernel)",
   "language": "python",
   "name": "python3"
  },
  "language_info": {
   "codemirror_mode": {
    "name": "ipython",
    "version": 3
   },
   "file_extension": ".py",
   "mimetype": "text/x-python",
   "name": "python",
   "nbconvert_exporter": "python",
   "pygments_lexer": "ipython3",
   "version": "3.7.0"
  }
 },
 "nbformat": 4,
 "nbformat_minor": 5
}
