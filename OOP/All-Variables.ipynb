{
 "cells": [
  {
   "cell_type": "code",
   "execution_count": 5,
   "id": "d9e1304d",
   "metadata": {},
   "outputs": [
    {
     "name": "stdout",
     "output_type": "stream",
     "text": [
      "constructor will execute automatically\n",
      "constructor will execute automatically\n",
      "{'a': 10, 'b': 20, 'c': 30, 'd': 40}\n",
      "{'a': 10, 'b': 20}\n",
      "{'__module__': '__main__', 'min_Bal': 500, '__init__': <function Account.__init__ at 0x0142CE88>, 'open_Account': <function Account.open_Account at 0x0142CED0>, 'info_Account': <classmethod object at 0x06D73570>, 'calc': <staticmethod object at 0x06D73590>, '__dict__': <attribute '__dict__' of 'Account' objects>, '__weakref__': <attribute '__weakref__' of 'Account' objects>, '__doc__': None, 'Amount': 5000}\n"
     ]
    }
   ],
   "source": [
    "class Account:\n",
    "    min_Bal = 500\n",
    "    \n",
    "    def __init__(self):\n",
    "        print(\"constructor will execute automatically\")\n",
    "        self.a = 10\n",
    "        self.b= 20\n",
    "    def open_Account(self):\n",
    "        self.c= 30\n",
    "        self.d=40\n",
    "        Account.Amount = 5000\n",
    "        \n",
    "    @classmethod\n",
    "    def info_Account(cls):\n",
    "        pass\n",
    "    @staticmethod\n",
    "    def calc(a,b):\n",
    "        pass\n",
    "    \n",
    "    \n",
    "a1 = Account()\n",
    "a2 = Account()\n",
    "a1.open_Account()\n",
    "#a2.open_Account()\n",
    "print(a1.__dict__)\n",
    "\n",
    "print(a2.__dict__)\n",
    "print(Account.__dict__)"
   ]
  },
  {
   "cell_type": "code",
   "execution_count": 11,
   "id": "d8dc510e",
   "metadata": {},
   "outputs": [
    {
     "name": "stdout",
     "output_type": "stream",
     "text": [
      "10\n",
      "20\n",
      "30\n",
      "{}\n",
      "{'__module__': '__main__', 'a': 10, '__init__': <function Test.__init__ at 0x0157D5D0>, 'm1': <function Test.m1 at 0x0157D618>, 'm2': <classmethod object at 0x06D73DF0>, 'm3': <staticmethod object at 0x06D73E10>, '__dict__': <attribute '__dict__' of 'Test' objects>, '__weakref__': <attribute '__weakref__' of 'Test' objects>, '__doc__': None, 'b': 20, 'c': 30, 'd': 40, 'e': 50, 'f': 60}\n"
     ]
    }
   ],
   "source": [
    "class Test:\n",
    "    a = 10\n",
    "    def __init__(self):\n",
    "        Test.b = 20\n",
    "    def m1(self):\n",
    "        Test.c= 30\n",
    "    @classmethod\n",
    "    def m2(cls):\n",
    "        Test.d = 40\n",
    "        cls.e=50\n",
    "    @staticmethod\n",
    "    def m3():\n",
    "        Test.f=60\n",
    "\n",
    "t = Test()\n",
    "t.m1()\n",
    "Test.m2()\n",
    "t.m3()\n",
    "\n",
    "print(t.a)\n",
    "print(t.b)\n",
    "print(t.c)\n",
    "        \n",
    "print(t.__dict__)  #{  }  no instance variable\n",
    "print(Test.__dict__) # {  a:10, b=20, c:30, d:40, e:50, f:60}"
   ]
  },
  {
   "cell_type": "code",
   "execution_count": 13,
   "id": "a8288c0e",
   "metadata": {},
   "outputs": [
    {
     "name": "stdout",
     "output_type": "stream",
     "text": [
      "100\n",
      "200\n"
     ]
    },
    {
     "ename": "NameError",
     "evalue": "name 'a' is not defined",
     "output_type": "error",
     "traceback": [
      "\u001b[1;31m---------------------------------------------------------------------------\u001b[0m",
      "\u001b[1;31mNameError\u001b[0m                                 Traceback (most recent call last)",
      "\u001b[1;32m~\\AppData\\Local\\Temp\\ipykernel_5916\\2007616913.py\u001b[0m in \u001b[0;36m<module>\u001b[1;34m\u001b[0m\n\u001b[0;32m     12\u001b[0m \u001b[1;33m\u001b[0m\u001b[0m\n\u001b[0;32m     13\u001b[0m \u001b[0mEmp\u001b[0m\u001b[1;33m(\u001b[0m\u001b[1;33m)\u001b[0m\u001b[1;33m.\u001b[0m\u001b[0mm1\u001b[0m\u001b[1;33m(\u001b[0m\u001b[1;33m)\u001b[0m\u001b[1;33m\u001b[0m\u001b[0m\n\u001b[1;32m---> 14\u001b[1;33m \u001b[0mEmp\u001b[0m\u001b[1;33m(\u001b[0m\u001b[1;33m)\u001b[0m\u001b[1;33m.\u001b[0m\u001b[0mm2\u001b[0m\u001b[1;33m(\u001b[0m\u001b[1;33m)\u001b[0m\u001b[1;33m\u001b[0m\u001b[0m\n\u001b[0m",
      "\u001b[1;32m~\\AppData\\Local\\Temp\\ipykernel_5916\\2007616913.py\u001b[0m in \u001b[0;36mm2\u001b[1;34m(self)\u001b[0m\n\u001b[0;32m      7\u001b[0m         \u001b[0mprint\u001b[0m\u001b[1;33m(\u001b[0m\u001b[0mb\u001b[0m\u001b[1;33m)\u001b[0m\u001b[1;33m\u001b[0m\u001b[0m\n\u001b[0;32m      8\u001b[0m     \u001b[1;32mdef\u001b[0m \u001b[0mm2\u001b[0m\u001b[1;33m(\u001b[0m\u001b[0mself\u001b[0m\u001b[1;33m)\u001b[0m\u001b[1;33m:\u001b[0m\u001b[1;33m\u001b[0m\u001b[0m\n\u001b[1;32m----> 9\u001b[1;33m         \u001b[0mprint\u001b[0m\u001b[1;33m(\u001b[0m\u001b[0ma\u001b[0m\u001b[1;33m)\u001b[0m\u001b[1;33m\u001b[0m\u001b[0m\n\u001b[0m\u001b[0;32m     10\u001b[0m         \u001b[0mprint\u001b[0m\u001b[1;33m(\u001b[0m\u001b[0mb\u001b[0m\u001b[1;33m)\u001b[0m\u001b[1;33m\u001b[0m\u001b[0m\n\u001b[0;32m     11\u001b[0m \u001b[1;33m\u001b[0m\u001b[0m\n",
      "\u001b[1;31mNameError\u001b[0m: name 'a' is not defined"
     ]
    }
   ],
   "source": [
    "class Emp:\n",
    "    \n",
    "    def m1(self):\n",
    "        a=100\n",
    "        b=200\n",
    "        print(a)\n",
    "        print(b)\n",
    "    def m2(self):\n",
    "        print(a)\n",
    "        print(b)\n",
    "        \n",
    "\n",
    "Emp().m1()\n",
    "Emp().m2()"
   ]
  },
  {
   "cell_type": "code",
   "execution_count": 15,
   "id": "e2fc3b06",
   "metadata": {},
   "outputs": [
    {
     "name": "stdout",
     "output_type": "stream",
     "text": [
      "{'amount': 5000}\n",
      "{'__module__': '__main__', 'min_Bal': 500, 'bank': <function Bank.bank at 0x0157D810>, '__dict__': <attribute '__dict__' of 'Bank' objects>, '__weakref__': <attribute '__weakref__' of 'Bank' objects>, '__doc__': None}\n"
     ]
    }
   ],
   "source": [
    "class Bank:\n",
    "    min_Bal= 500   #static variable\n",
    "    \n",
    "    def bank(self):\n",
    "        self.amount = 5000  #instance variable\n",
    "        id = 101            #local variable    \n",
    "\n",
    "b1= Bank()\n",
    "b1.bank()\n",
    "print(b1.__dict__)\n",
    "print(Bank.__dict__)"
   ]
  },
  {
   "cell_type": "code",
   "execution_count": null,
   "id": "93dddfff",
   "metadata": {},
   "outputs": [],
   "source": []
  }
 ],
 "metadata": {
  "kernelspec": {
   "display_name": "Python 3 (ipykernel)",
   "language": "python",
   "name": "python3"
  },
  "language_info": {
   "codemirror_mode": {
    "name": "ipython",
    "version": 3
   },
   "file_extension": ".py",
   "mimetype": "text/x-python",
   "name": "python",
   "nbconvert_exporter": "python",
   "pygments_lexer": "ipython3",
   "version": "3.7.0"
  }
 },
 "nbformat": 4,
 "nbformat_minor": 5
}
