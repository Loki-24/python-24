{
 "cells": [
  {
   "cell_type": "code",
   "execution_count": 1,
   "id": "1a75edb6",
   "metadata": {},
   "outputs": [
    {
     "name": "stdout",
     "output_type": "stream",
     "text": [
      "<__main__.Account object at 0x062FB490>\n",
      "<__main__.Account object at 0x062FB1D0>\n",
      "<__main__.Account object at 0x062FB4B0>\n",
      "103789712\n",
      "{}\n",
      "{'__module__': '__main__', '__dict__': <attribute '__dict__' of 'Account' objects>, '__weakref__': <attribute '__weakref__' of 'Account' objects>, '__doc__': None}\n"
     ]
    }
   ],
   "source": [
    "class Account:\n",
    "    pass\n",
    "\n",
    "a1 = Account()\n",
    "a2 = Account()\n",
    "a3 = Account()\n",
    "\n",
    "print(a1)\n",
    "print(a2)\n",
    "print(a3)\n",
    "print(id(a1))\n",
    "print(a1.__dict__)\n",
    "print(Account.__dict__)"
   ]
  },
  {
   "cell_type": "code",
   "execution_count": 2,
   "id": "07c06908",
   "metadata": {},
   "outputs": [
    {
     "name": "stdout",
     "output_type": "stream",
     "text": [
      " Writing Test Class \n"
     ]
    }
   ],
   "source": [
    "class Test:\n",
    "    ''' Writing Test Class '''\n",
    "    pass\n",
    "\n",
    "print(Test.__doc__)"
   ]
  },
  {
   "cell_type": "code",
   "execution_count": 7,
   "id": "fcd28ca1",
   "metadata": {},
   "outputs": [
    {
     "name": "stdout",
     "output_type": "stream",
     "text": [
      "account opened\n",
      "Success\n",
      "{'acc_Amount': 5000}\n"
     ]
    }
   ],
   "source": [
    "class Account:\n",
    "    def open_Account(self):\n",
    "        print(\"account opened\")\n",
    "    def deposit_Amount(self,amount):\n",
    "        print('Success')\n",
    "        self.acc_Amount = amount\n",
    "\n",
    "        \n",
    "a1 = Account()\n",
    "a1.open_Account()\n",
    "a1.deposit_Amount(5000)\n",
    "\n",
    "print(a1.__dict__)"
   ]
  },
  {
   "cell_type": "code",
   "execution_count": 8,
   "id": "233d88e9",
   "metadata": {},
   "outputs": [
    {
     "name": "stdout",
     "output_type": "stream",
     "text": [
      "{'__module__': '__main__', 'a': 10, '__dict__': <attribute '__dict__' of 'Account' objects>, '__weakref__': <attribute '__weakref__' of 'Account' objects>, '__doc__': None}\n"
     ]
    }
   ],
   "source": [
    "class Account:\n",
    "    a=10\n",
    "    \n",
    "    \n",
    "print(Account.__dict__)"
   ]
  },
  {
   "cell_type": "code",
   "execution_count": 9,
   "id": "6b762b06",
   "metadata": {},
   "outputs": [
    {
     "name": "stdout",
     "output_type": "stream",
     "text": [
      "{'__module__': '__main__', 'a': 10, 'm1': <function Test.m1 at 0x0093AD68>, 'm2': <classmethod object at 0x04ED8130>, 'm3': <staticmethod object at 0x04ED8430>, '__dict__': <attribute '__dict__' of 'Test' objects>, '__weakref__': <attribute '__weakref__' of 'Test' objects>, '__doc__': None}\n"
     ]
    }
   ],
   "source": [
    "class Test:\n",
    "    a=10\n",
    "    \n",
    "    def m1(self):\n",
    "        self.b=20\n",
    "    @classmethod    \n",
    "    def m2(cls):\n",
    "        cls.c= 30\n",
    "    @staticmethod\n",
    "    def m3():\n",
    "        Test.d = 40\n",
    "\n",
    "print(Test.__dict__)"
   ]
  },
  {
   "cell_type": "code",
   "execution_count": null,
   "id": "1f7f426f",
   "metadata": {},
   "outputs": [],
   "source": [
    "class Test:\n",
    "    "
   ]
  }
 ],
 "metadata": {
  "kernelspec": {
   "display_name": "Python 3 (ipykernel)",
   "language": "python",
   "name": "python3"
  },
  "language_info": {
   "codemirror_mode": {
    "name": "ipython",
    "version": 3
   },
   "file_extension": ".py",
   "mimetype": "text/x-python",
   "name": "python",
   "nbconvert_exporter": "python",
   "pygments_lexer": "ipython3",
   "version": "3.7.0"
  }
 },
 "nbformat": 4,
 "nbformat_minor": 5
}
