{
 "cells": [
  {
   "cell_type": "code",
   "execution_count": 1,
   "id": "9a333584",
   "metadata": {},
   "outputs": [
    {
     "name": "stdout",
     "output_type": "stream",
     "text": [
      "Construcotr exec automatically\n",
      "Construcotr exec automatically\n",
      "Construcotr exec automatically\n"
     ]
    }
   ],
   "source": [
    "class Account:\n",
    "    def __init__(self):\n",
    "        print(\"Construcotr exec automatically\")\n",
    "        \n",
    "    def m1(self):\n",
    "        print(\"m1 method - instance method\")\n",
    "        \n",
    "a1 = Account()\n",
    "a2 = Account()\n",
    "a3= Account()"
   ]
  },
  {
   "cell_type": "code",
   "execution_count": 5,
   "id": "3cebc9e7",
   "metadata": {},
   "outputs": [
    {
     "name": "stdout",
     "output_type": "stream",
     "text": [
      "constructor method executing auto\n",
      "constructor method executing auto\n",
      "constructor method executing auto\n",
      "constructor method executing auto\n",
      "constructor method executing auto\n"
     ]
    },
    {
     "data": {
      "text/plain": [
       "<__main__.Test at 0x67c3390>"
      ]
     },
     "execution_count": 5,
     "metadata": {},
     "output_type": "execute_result"
    }
   ],
   "source": [
    "class Test:\n",
    "    def __init__(self):\n",
    "        print(\"constructor method executing auto\")\n",
    "Test()\n",
    "Test()\n",
    "Test()\n",
    "Test()\n",
    "Test()"
   ]
  },
  {
   "cell_type": "code",
   "execution_count": 7,
   "id": "b110a736",
   "metadata": {},
   "outputs": [
    {
     "ename": "TypeError",
     "evalue": "Emp() takes no arguments",
     "output_type": "error",
     "traceback": [
      "\u001b[1;31m---------------------------------------------------------------------------\u001b[0m",
      "\u001b[1;31mTypeError\u001b[0m                                 Traceback (most recent call last)",
      "\u001b[1;32m~\\AppData\\Local\\Temp\\ipykernel_13068\\1749687048.py\u001b[0m in \u001b[0;36m<module>\u001b[1;34m\u001b[0m\n\u001b[0;32m      2\u001b[0m     \u001b[1;32mpass\u001b[0m\u001b[1;33m\u001b[0m\u001b[0m\n\u001b[0;32m      3\u001b[0m \u001b[1;33m\u001b[0m\u001b[0m\n\u001b[1;32m----> 4\u001b[1;33m \u001b[0me1\u001b[0m \u001b[1;33m=\u001b[0m \u001b[0mEmp\u001b[0m\u001b[1;33m(\u001b[0m\u001b[1;36m101\u001b[0m\u001b[1;33m,\u001b[0m \u001b[1;34m\"Rahul\"\u001b[0m\u001b[1;33m,\u001b[0m\u001b[1;36m45000\u001b[0m\u001b[1;33m)\u001b[0m\u001b[1;33m\u001b[0m\u001b[0m\n\u001b[0m",
      "\u001b[1;31mTypeError\u001b[0m: Emp() takes no arguments"
     ]
    }
   ],
   "source": [
    "class Emp:\n",
    "    pass\n",
    "\n",
    "e1 = Emp(101, \"Rahul\",45000)"
   ]
  },
  {
   "cell_type": "code",
   "execution_count": 8,
   "id": "4ba4260f",
   "metadata": {},
   "outputs": [
    {
     "name": "stdout",
     "output_type": "stream",
     "text": [
      "{'emp_Id': 101, 'emp_Name': 'Rahul', 'emp_Sal': 45000}\n"
     ]
    }
   ],
   "source": [
    "class Emp:\n",
    "    def __init__(self,id,name,sal):\n",
    "        self.emp_Id  = id\n",
    "        self.emp_Name=name\n",
    "        self.emp_Sal = sal\n",
    "\n",
    "e1 = Emp(101, \"Rahul\",45000)\n",
    "print(e1.__dict__)"
   ]
  },
  {
   "cell_type": "code",
   "execution_count": null,
   "id": "5976999a",
   "metadata": {},
   "outputs": [],
   "source": []
  }
 ],
 "metadata": {
  "kernelspec": {
   "display_name": "Python 3 (ipykernel)",
   "language": "python",
   "name": "python3"
  },
  "language_info": {
   "codemirror_mode": {
    "name": "ipython",
    "version": 3
   },
   "file_extension": ".py",
   "mimetype": "text/x-python",
   "name": "python",
   "nbconvert_exporter": "python",
   "pygments_lexer": "ipython3",
   "version": "3.7.0"
  }
 },
 "nbformat": 4,
 "nbformat_minor": 5
}
