{
 "cells": [
  {
   "cell_type": "code",
   "execution_count": 10,
   "id": "3614f55d",
   "metadata": {},
   "outputs": [
    {
     "name": "stdout",
     "output_type": "stream",
     "text": [
      "{'id': 102, 'name': 'Govind', 'sal': 55000}\n"
     ]
    }
   ],
   "source": [
    "import json\n",
    "emp = '''  { \"id\":102, \"name\":\"Govind\" , \"sal\":55000} '''\n",
    "\n",
    "emp_dict = { \"id\":101, \"name\":\"Rahul\", \"sal\":45000}\n",
    "\n",
    "#convert json sting to python dict\n",
    "emp_dict1  = json.loads(emp)\n",
    "print(emp_dict1)\n",
    "\n",
    "#convert python dict to json string\n"
   ]
  },
  {
   "cell_type": "code",
   "execution_count": 13,
   "id": "011e70ef",
   "metadata": {},
   "outputs": [
    {
     "name": "stdout",
     "output_type": "stream",
     "text": [
      "{'id': 101, 'name': 'Rahul', 'sal': 45000}\n",
      "<class 'dict'>\n",
      "id : 101\n",
      "name : Rahul\n",
      "sal : 45000\n"
     ]
    }
   ],
   "source": [
    "#json string to python dict\n",
    "import json \n",
    "\n",
    "emp = '''{ \"id\":101,\"name\":\"Rahul\", \"sal\":45000 }'''\n",
    "\n",
    "emp_dict = json.loads(emp)\n",
    "\n",
    "print(emp_dict)\n",
    "print(type(emp_dict))\n",
    "\n",
    "for key, value in emp_dict.items():\n",
    "    print('{} : {}'.format(key,value))"
   ]
  },
  {
   "cell_type": "code",
   "execution_count": 21,
   "id": "288817ae",
   "metadata": {},
   "outputs": [
    {
     "name": "stdout",
     "output_type": "stream",
     "text": [
      "{\"id\": 111101, \"name\": \"Rahul Gandhi\", \"sal\": 45000}\n"
     ]
    }
   ],
   "source": [
    "import json\n",
    "\n",
    "emp_dict = {'id': 111101, 'name': 'Rahul Gandhi', 'sal': 45000}\n",
    "\n",
    "emp_json=json.dumps(emp_dict)\n",
    "print(emp_json)\n",
    "\n",
    "with open(\"surya.json\", 'w') as f:\n",
    "    json.dump(emp_dict,f)\n",
    "#f  = open(\"govid.json\", 'w')\n",
    "#json.dump(emp_dict,f)\n",
    "#f.close()"
   ]
  },
  {
   "cell_type": "code",
   "execution_count": null,
   "id": "9bbfcf37",
   "metadata": {},
   "outputs": [],
   "source": []
  }
 ],
 "metadata": {
  "kernelspec": {
   "display_name": "Python 3 (ipykernel)",
   "language": "python",
   "name": "python3"
  },
  "language_info": {
   "codemirror_mode": {
    "name": "ipython",
    "version": 3
   },
   "file_extension": ".py",
   "mimetype": "text/x-python",
   "name": "python",
   "nbconvert_exporter": "python",
   "pygments_lexer": "ipython3",
   "version": "3.7.0"
  }
 },
 "nbformat": 4,
 "nbformat_minor": 5
}
