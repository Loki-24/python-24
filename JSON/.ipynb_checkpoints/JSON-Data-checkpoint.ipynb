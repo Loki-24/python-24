{
 "cells": [
  {
   "cell_type": "code",
   "execution_count": 3,
   "id": "c9575f66",
   "metadata": {},
   "outputs": [
    {
     "name": "stdout",
     "output_type": "stream",
     "text": [
      "{'id': 102, 'name': 'Govind', 'sal': 55000}\n"
     ]
    }
   ],
   "source": [
    "import json\n",
    "emp = '''  { \"id\":102, \"name\":\"Govind\" , \"sal\":55000} '''\n",
    "\n",
    "emp_dict = { \"id\":101, \"name\":\"Rahul\", \"sal\":45000}\n",
    "\n",
    "#convert json sting to python dict\n",
    "emp_dict1  = json.loads(emp)\n",
    "print(emp_dict1)\n",
    "\n",
    "#convert python dict to json string\n"
   ]
  },
  {
   "cell_type": "code",
   "execution_count": null,
   "id": "f1c9261c",
   "metadata": {},
   "outputs": [],
   "source": [
    "#json string to python dict\n",
    "import json \n",
    "\n",
    "emp = '''\n",
    "      {\n",
    "        'id':101,\n",
    "        'name':\"Rahul\",\n",
    "        'sal':45000\n",
    "      }'''"
   ]
  }
 ],
 "metadata": {
  "kernelspec": {
   "display_name": "Python 3 (ipykernel)",
   "language": "python",
   "name": "python3"
  },
  "language_info": {
   "codemirror_mode": {
    "name": "ipython",
    "version": 3
   },
   "file_extension": ".py",
   "mimetype": "text/x-python",
   "name": "python",
   "nbconvert_exporter": "python",
   "pygments_lexer": "ipython3",
   "version": "3.7.0"
  }
 },
 "nbformat": 4,
 "nbformat_minor": 5
}
