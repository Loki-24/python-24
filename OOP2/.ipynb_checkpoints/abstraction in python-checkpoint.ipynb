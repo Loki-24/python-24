{
 "cells": [
  {
   "cell_type": "code",
   "execution_count": 2,
   "id": "5e4e2d18",
   "metadata": {},
   "outputs": [
    {
     "name": "stdout",
     "output_type": "stream",
     "text": [
      "<__main__.Emp object at 0x068AC0F0>\n",
      "{}\n"
     ]
    }
   ],
   "source": [
    "class Emp:\n",
    "    def cal_Tax(self):\n",
    "        pass\n",
    "    \n",
    "e = Emp()\n",
    "print(e)\n",
    "print(e.__dict__)\n"
   ]
  },
  {
   "cell_type": "code",
   "execution_count": 4,
   "id": "1519814b",
   "metadata": {},
   "outputs": [
    {
     "ename": "TypeError",
     "evalue": "Can't instantiate abstract class Emp with abstract methods cal_Tax",
     "output_type": "error",
     "traceback": [
      "\u001b[1;31m---------------------------------------------------------------------------\u001b[0m",
      "\u001b[1;31mTypeError\u001b[0m                                 Traceback (most recent call last)",
      "\u001b[1;32m~\\AppData\\Local\\Temp\\ipykernel_15776\\2185718276.py\u001b[0m in \u001b[0;36m<module>\u001b[1;34m\u001b[0m\n\u001b[0;32m      5\u001b[0m         \u001b[1;32mpass\u001b[0m\u001b[1;33m\u001b[0m\u001b[0m\n\u001b[0;32m      6\u001b[0m \u001b[1;33m\u001b[0m\u001b[0m\n\u001b[1;32m----> 7\u001b[1;33m \u001b[0me1\u001b[0m\u001b[1;33m=\u001b[0m \u001b[0mEmp\u001b[0m\u001b[1;33m(\u001b[0m\u001b[1;33m)\u001b[0m\u001b[1;33m\u001b[0m\u001b[0m\n\u001b[0m\u001b[0;32m      8\u001b[0m \u001b[0mprint\u001b[0m\u001b[1;33m(\u001b[0m\u001b[0me1\u001b[0m\u001b[1;33m)\u001b[0m\u001b[1;33m\u001b[0m\u001b[0m\n\u001b[0;32m      9\u001b[0m \u001b[0mprint\u001b[0m\u001b[1;33m(\u001b[0m\u001b[0me1\u001b[0m\u001b[1;33m.\u001b[0m\u001b[0m__dict__\u001b[0m\u001b[1;33m)\u001b[0m\u001b[1;33m\u001b[0m\u001b[0m\n",
      "\u001b[1;31mTypeError\u001b[0m: Can't instantiate abstract class Emp with abstract methods cal_Tax"
     ]
    }
   ],
   "source": [
    "from abc import *\n",
    "class Emp(ABC):\n",
    "    @abstractmethod\n",
    "    def cal_Tax(self):\n",
    "        pass\n",
    "\n",
    "e1= Emp()\n",
    "print(e1)\n",
    "print(e1.__dict__)"
   ]
  },
  {
   "cell_type": "code",
   "execution_count": 6,
   "id": "0655cde7",
   "metadata": {},
   "outputs": [
    {
     "name": "stdout",
     "output_type": "stream",
     "text": [
      "1800\n"
     ]
    }
   ],
   "source": [
    "from abc import *\n",
    "class Emp(ABC):\n",
    "    @abstractmethod\n",
    "    def cal_Tax(self):\n",
    "        pass\n",
    "    \n",
    "class PE(Emp):\n",
    "    def cal_Tax(self):\n",
    "        return 1800\n",
    "    \n",
    "e2 = PE()\n",
    "\n",
    "print(e2.cal_Tax())"
   ]
  },
  {
   "cell_type": "code",
   "execution_count": 8,
   "id": "2fc2f03e",
   "metadata": {},
   "outputs": [
    {
     "name": "stdout",
     "output_type": "stream",
     "text": [
      "{}\n"
     ]
    }
   ],
   "source": [
    "from abc import *\n",
    "\n",
    "\n",
    "class Emp:\n",
    "    pass\n",
    "\n",
    "class PE(Emp):\n",
    "    pass\n",
    "\n",
    "p1 = PE()\n",
    "print(p1.__dict__)"
   ]
  },
  {
   "cell_type": "code",
   "execution_count": 10,
   "id": "94bf1e24",
   "metadata": {},
   "outputs": [
    {
     "ename": "TypeError",
     "evalue": "Can't instantiate abstract class PE with abstract methods cal_Tax",
     "output_type": "error",
     "traceback": [
      "\u001b[1;31m---------------------------------------------------------------------------\u001b[0m",
      "\u001b[1;31mTypeError\u001b[0m                                 Traceback (most recent call last)",
      "\u001b[1;32m~\\AppData\\Local\\Temp\\ipykernel_15776\\337761297.py\u001b[0m in \u001b[0;36m<module>\u001b[1;34m\u001b[0m\n\u001b[0;32m      8\u001b[0m     \u001b[1;32mpass\u001b[0m\u001b[1;33m\u001b[0m\u001b[0m\n\u001b[0;32m      9\u001b[0m \u001b[1;33m\u001b[0m\u001b[0m\n\u001b[1;32m---> 10\u001b[1;33m \u001b[0mp1\u001b[0m \u001b[1;33m=\u001b[0m \u001b[0mPE\u001b[0m\u001b[1;33m(\u001b[0m\u001b[1;33m)\u001b[0m\u001b[1;33m\u001b[0m\u001b[0m\n\u001b[0m\u001b[0;32m     11\u001b[0m \u001b[0mprint\u001b[0m\u001b[1;33m(\u001b[0m\u001b[0mp1\u001b[0m\u001b[1;33m.\u001b[0m\u001b[0m__dict__\u001b[0m\u001b[1;33m)\u001b[0m\u001b[1;33m\u001b[0m\u001b[0m\n",
      "\u001b[1;31mTypeError\u001b[0m: Can't instantiate abstract class PE with abstract methods cal_Tax"
     ]
    }
   ],
   "source": [
    "from abc import *\n",
    "class Emp(ABC):\n",
    "    @abstractmethod\n",
    "    def cal_Tax(self):\n",
    "        pass\n",
    "\n",
    "class PE(Emp):\n",
    "    pass\n",
    "\n",
    "p1 = PE()\n",
    "print(p1.__dict__)"
   ]
  },
  {
   "cell_type": "code",
   "execution_count": null,
   "id": "a03fa57f",
   "metadata": {},
   "outputs": [],
   "source": [
    "from abc import *\n",
    "\n",
    "class Emp(ABC):\n",
    "    @abstractmethod\n",
    "    def cal_Tax(self):\n",
    "        return 18001\n",
    "    \n",
    "    def get_Salalry(self):\n",
    "        return 10000\n",
    "\n",
    "e = Emp()"
   ]
  }
 ],
 "metadata": {
  "kernelspec": {
   "display_name": "Python 3 (ipykernel)",
   "language": "python",
   "name": "python3"
  },
  "language_info": {
   "codemirror_mode": {
    "name": "ipython",
    "version": 3
   },
   "file_extension": ".py",
   "mimetype": "text/x-python",
   "name": "python",
   "nbconvert_exporter": "python",
   "pygments_lexer": "ipython3",
   "version": "3.7.0"
  }
 },
 "nbformat": 4,
 "nbformat_minor": 5
}
