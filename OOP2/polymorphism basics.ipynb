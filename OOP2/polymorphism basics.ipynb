{
 "cells": [
  {
   "cell_type": "code",
   "execution_count": 1,
   "id": "d136f08b",
   "metadata": {},
   "outputs": [
    {
     "name": "stdout",
     "output_type": "stream",
     "text": [
      "Parent1 Class m1() method\n",
      "Child Class m2() method\n"
     ]
    }
   ],
   "source": [
    "class Parent1:\n",
    "    def m1(self):\n",
    "        print(\"Parent1 Class m1() method\")\n",
    "\n",
    "\n",
    "class Parent2:\n",
    "    def m1(self):\n",
    "        print(\"Parent2 Class m1() method\")\n",
    "\n",
    "class Child(Parent1, Parent2):\n",
    "    def m2(self):\n",
    "        print(\"Child Class m2() method\")\n",
    "\n",
    "c=Child()\n",
    "c.m1()\n",
    "c.m2()"
   ]
  },
  {
   "cell_type": "code",
   "execution_count": 2,
   "id": "db77a597",
   "metadata": {},
   "outputs": [
    {
     "name": "stdout",
     "output_type": "stream",
     "text": [
      "Parent2 Class m1() method\n",
      "Child Class m2() method\n"
     ]
    }
   ],
   "source": [
    "class Parent1:\n",
    "    def m1(self):\n",
    "        print(\"Parent1 Class m1() method\")\n",
    "\n",
    "\n",
    "class Parent2:\n",
    "    def m1(self):\n",
    "        print(\"Parent2 Class m1() method\")\n",
    "\n",
    "class Child(Parent2, Parent1):\n",
    "    def m2(self):\n",
    "        print(\"Child Class m2() method\")\n",
    "\n",
    "c=Child()\n",
    "c.m1()\n",
    "c.m2()"
   ]
  },
  {
   "cell_type": "code",
   "execution_count": 7,
   "id": "b41489c8",
   "metadata": {},
   "outputs": [
    {
     "name": "stdout",
     "output_type": "stream",
     "text": [
      "{}\n"
     ]
    }
   ],
   "source": [
    "class Parent1:\n",
    "    def m1(self):\n",
    "        print(\"Parent1 Class m1() method\")\n",
    "\n",
    "\n",
    "class Parent2:\n",
    "    def m1(self):\n",
    "        print(\"Parent2 Class m1() method\")\n",
    "\n",
    "class Child(Parent2, Parent1):\n",
    "    def m2(self):\n",
    "        print(\"Child Class m2() method\")\n",
    "\n",
    "c = Child()\n",
    "print(c.__dict__)"
   ]
  },
  {
   "cell_type": "code",
   "execution_count": 8,
   "id": "8bd90e7a",
   "metadata": {},
   "outputs": [],
   "source": [
    "class Emp:\n",
    "    pass\n",
    "class PE:\n",
    "    pass\n",
    "class CE:\n",
    "    pass\n",
    "\n",
    "def exec(obj):\n",
    "    pass\n",
    "\n",
    "exec(Emp())\n",
    "exec(PE())\n",
    "exec(CE())"
   ]
  },
  {
   "cell_type": "code",
   "execution_count": 9,
   "id": "cf461f86",
   "metadata": {},
   "outputs": [
    {
     "name": "stdout",
     "output_type": "stream",
     "text": [
      "Employee Tax\n",
      "PE Tax\n",
      "CE Tax\n"
     ]
    }
   ],
   "source": [
    "class Emp:\n",
    "    def cal_Tax(self):\n",
    "        print(\"Employee Tax\")\n",
    "class PE:\n",
    "    def cal_Tax(self):\n",
    "        print(\"PE Tax\")\n",
    "class CE:\n",
    "    def cal_Tax(self):\n",
    "        print(\"CE Tax\")\n",
    "\n",
    "def exec(obj):\n",
    "    obj.cal_Tax()\n",
    "\n",
    "exec(Emp())\n",
    "exec(PE())\n",
    "exec(CE())"
   ]
  },
  {
   "cell_type": "code",
   "execution_count": null,
   "id": "397028e5",
   "metadata": {},
   "outputs": [],
   "source": []
  }
 ],
 "metadata": {
  "kernelspec": {
   "display_name": "Python 3 (ipykernel)",
   "language": "python",
   "name": "python3"
  },
  "language_info": {
   "codemirror_mode": {
    "name": "ipython",
    "version": 3
   },
   "file_extension": ".py",
   "mimetype": "text/x-python",
   "name": "python",
   "nbconvert_exporter": "python",
   "pygments_lexer": "ipython3",
   "version": "3.7.0"
  }
 },
 "nbformat": 4,
 "nbformat_minor": 5
}
