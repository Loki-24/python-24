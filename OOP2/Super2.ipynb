{
 "cells": [
  {
   "cell_type": "code",
   "execution_count": 4,
   "id": "5b9f7d9f",
   "metadata": {},
   "outputs": [
    {
     "name": "stdout",
     "output_type": "stream",
     "text": [
      "Parent Class Const\n",
      "Child Class Const\n",
      "{'eid': 101, 'ename': 'Rahul Gandhi', 'amount': 50000}\n"
     ]
    }
   ],
   "source": [
    "class Account:\n",
    "    def __init__(self,eid, ename):\n",
    "        print(\"Parent Class Const\")\n",
    "        self.eid =eid\n",
    "        self.ename = ename\n",
    "   \n",
    "\n",
    "class SA(Account):\n",
    "    def __init__(self, eid,ename, amount):\n",
    "        super().__init__(eid, ename)\n",
    "        self.amount = amount\n",
    "        print(\"Child Class Const\")\n",
    "   \n",
    "\n",
    "\n",
    "a1 = SA(101, \"Rahul Gandhi\", 50000)\n",
    "print(a1.__dict__)"
   ]
  },
  {
   "cell_type": "code",
   "execution_count": 7,
   "id": "b38cf784",
   "metadata": {},
   "outputs": [
    {
     "name": "stdout",
     "output_type": "stream",
     "text": [
      "Account class Const\n",
      "SA - class const\n",
      "Account class - methodOne - instance method\n",
      "Account Clss  method two - class method\n",
      "Account Clss  method two - class method\n"
     ]
    }
   ],
   "source": [
    "class Account:\n",
    "    def __init__(self):\n",
    "        print(\"Account class Const\")\n",
    "    def methodOne(self):\n",
    "        print(\"Account class - methodOne - instance method\")\n",
    "    @classmethod\n",
    "    def methodTwo(cls):\n",
    "        print(\"Account Clss  method two - class method\")\n",
    "    @staticmethod\n",
    "    def methodThree():\n",
    "        print(\"Account Clss  method two - class method\")\n",
    "\n",
    "class SA(Account):\n",
    "    def __init__(self):\n",
    "        super().__init__()\n",
    "        print(\"SA - class const\")\n",
    "    def testMethod(self):\n",
    "        super().methodOne()\n",
    "        super().methodTwo()\n",
    "        super().methodThree()\n",
    "        \n",
    "\n",
    "a1 = SA()\n",
    "a1.testMethod()\n"
   ]
  },
  {
   "cell_type": "code",
   "execution_count": null,
   "id": "2bb8df13",
   "metadata": {},
   "outputs": [],
   "source": []
  }
 ],
 "metadata": {
  "kernelspec": {
   "display_name": "Python 3 (ipykernel)",
   "language": "python",
   "name": "python3"
  },
  "language_info": {
   "codemirror_mode": {
    "name": "ipython",
    "version": 3
   },
   "file_extension": ".py",
   "mimetype": "text/x-python",
   "name": "python",
   "nbconvert_exporter": "python",
   "pygments_lexer": "ipython3",
   "version": "3.7.0"
  }
 },
 "nbformat": 4,
 "nbformat_minor": 5
}
