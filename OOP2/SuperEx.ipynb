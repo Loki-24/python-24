{
 "cells": [
  {
   "cell_type": "code",
   "execution_count": 1,
   "id": "b3bdb85f",
   "metadata": {},
   "outputs": [],
   "source": [
    "class Account:\n",
    "    def __init__(self, id, name):\n",
    "        self.id= id \n",
    "        self.name = name\n",
    "\n",
    "class SA:\n",
    "    def __init__(self, id, name, amount):\n",
    "        self.amount = amount\n",
    "\n",
    "\n",
    "a1 = SA(101, \"Rahul Gandhi\", 50000)"
   ]
  },
  {
   "cell_type": "code",
   "execution_count": 23,
   "id": "575cdf3b",
   "metadata": {},
   "outputs": [
    {
     "name": "stdout",
     "output_type": "stream",
     "text": [
      "Parent class const\n",
      "Child class const\n",
      "<__main__.SA object at 0x06B6F9F0>\n"
     ]
    }
   ],
   "source": [
    "class Account:\n",
    "    def __init__(self):\n",
    "        print(\"Parent class const\")\n",
    "        \n",
    "class SA(Account):\n",
    "    def __init__(self):\n",
    "        super().__init__()\n",
    "        print(\"Child class const\")\n",
    "\n",
    "a1 = SA()\n",
    "print(a1)"
   ]
  },
  {
   "cell_type": "code",
   "execution_count": 20,
   "id": "985b0ff3",
   "metadata": {},
   "outputs": [
    {
     "name": "stdout",
     "output_type": "stream",
     "text": [
      "Rahul Gandhi\n",
      "{'amount': 50000}\n"
     ]
    }
   ],
   "source": [
    "class Account:\n",
    "    def __init__(self, id, name):\n",
    "        print(\"Parent Class constructor\")\n",
    "        self.id= id \n",
    "        self.name = name\n",
    "\n",
    "class SA:\n",
    "    def __init__(self, id, ename, amount):\n",
    "        print(ename)\n",
    "        super().__init__()\n",
    "        self.amount = amount\n",
    "\n",
    "\n",
    "a1 = SA(101, \"Rahul Gandhi\", 50000)\n",
    "print(a1.__dict__)"
   ]
  },
  {
   "cell_type": "code",
   "execution_count": 26,
   "id": "e76d539b",
   "metadata": {},
   "outputs": [
    {
     "name": "stdout",
     "output_type": "stream",
     "text": [
      "Rahul Gandhi\n"
     ]
    },
    {
     "ename": "TypeError",
     "evalue": "object.__init__() takes no arguments",
     "output_type": "error",
     "traceback": [
      "\u001b[1;31m---------------------------------------------------------------------------\u001b[0m",
      "\u001b[1;31mTypeError\u001b[0m                                 Traceback (most recent call last)",
      "\u001b[1;32m~\\AppData\\Local\\Temp\\ipykernel_4276\\2038710503.py\u001b[0m in \u001b[0;36m<module>\u001b[1;34m\u001b[0m\n\u001b[0;32m     12\u001b[0m \u001b[1;33m\u001b[0m\u001b[0m\n\u001b[0;32m     13\u001b[0m \u001b[1;33m\u001b[0m\u001b[0m\n\u001b[1;32m---> 14\u001b[1;33m \u001b[0ma1\u001b[0m \u001b[1;33m=\u001b[0m \u001b[0mSA\u001b[0m\u001b[1;33m(\u001b[0m\u001b[1;36m101\u001b[0m\u001b[1;33m,\u001b[0m \u001b[1;34m\"Rahul Gandhi\"\u001b[0m\u001b[1;33m,\u001b[0m \u001b[1;36m50000\u001b[0m\u001b[1;33m)\u001b[0m\u001b[1;33m\u001b[0m\u001b[0m\n\u001b[0m\u001b[0;32m     15\u001b[0m \u001b[0mprint\u001b[0m\u001b[1;33m(\u001b[0m\u001b[0ma1\u001b[0m\u001b[1;33m.\u001b[0m\u001b[0m__dict__\u001b[0m\u001b[1;33m)\u001b[0m\u001b[1;33m\u001b[0m\u001b[0m\n",
      "\u001b[1;32m~\\AppData\\Local\\Temp\\ipykernel_4276\\2038710503.py\u001b[0m in \u001b[0;36m__init__\u001b[1;34m(self, eid, ename, amount)\u001b[0m\n\u001b[0;32m      8\u001b[0m     \u001b[1;32mdef\u001b[0m \u001b[0m__init__\u001b[0m\u001b[1;33m(\u001b[0m\u001b[0mself\u001b[0m\u001b[1;33m,\u001b[0m \u001b[0meid\u001b[0m\u001b[1;33m,\u001b[0m \u001b[0mename\u001b[0m\u001b[1;33m,\u001b[0m \u001b[0mamount\u001b[0m\u001b[1;33m)\u001b[0m\u001b[1;33m:\u001b[0m\u001b[1;33m\u001b[0m\u001b[0m\n\u001b[0;32m      9\u001b[0m         \u001b[0mprint\u001b[0m\u001b[1;33m(\u001b[0m\u001b[0mename\u001b[0m\u001b[1;33m)\u001b[0m\u001b[1;33m\u001b[0m\u001b[0m\n\u001b[1;32m---> 10\u001b[1;33m         \u001b[0msuper\u001b[0m\u001b[1;33m(\u001b[0m\u001b[1;33m)\u001b[0m\u001b[1;33m.\u001b[0m\u001b[0m__init__\u001b[0m\u001b[1;33m(\u001b[0m\u001b[0mself\u001b[0m\u001b[1;33m,\u001b[0m\u001b[0meid\u001b[0m\u001b[1;33m,\u001b[0m\u001b[0mename\u001b[0m\u001b[1;33m)\u001b[0m\u001b[1;33m\u001b[0m\u001b[0m\n\u001b[0m\u001b[0;32m     11\u001b[0m         \u001b[0mself\u001b[0m\u001b[1;33m.\u001b[0m\u001b[0mamount\u001b[0m \u001b[1;33m=\u001b[0m \u001b[0mamount\u001b[0m\u001b[1;33m\u001b[0m\u001b[0m\n\u001b[0;32m     12\u001b[0m \u001b[1;33m\u001b[0m\u001b[0m\n",
      "\u001b[1;31mTypeError\u001b[0m: object.__init__() takes no arguments"
     ]
    }
   ],
   "source": [
    "class Account:\n",
    "    def __init__(self, eid, name):\n",
    "        print(\"Parent Class constructor\")\n",
    "        self.eid= eid \n",
    "        self.name = name\n",
    "\n",
    "class SA:\n",
    "    def __init__(self, eid, ename, amount):\n",
    "        print(ename)\n",
    "        super().__init__(self,eid,ename)\n",
    "        self.amount = amount\n",
    "\n",
    "\n",
    "a1 = SA(101, \"Rahul Gandhi\", 50000)\n",
    "print(a1.__dict__)"
   ]
  },
  {
   "cell_type": "code",
   "execution_count": 36,
   "id": "f6a50382",
   "metadata": {},
   "outputs": [
    {
     "name": "stdout",
     "output_type": "stream",
     "text": [
      "Rahul Gandhi\n",
      "101\n"
     ]
    }
   ],
   "source": [
    "class Parent:\n",
    "  def __init__(self, eid,name):\n",
    "    self.name = name\n",
    "    self.eid= eid\n",
    "\n",
    "  def printmessage(self):\n",
    "    print(self.name)\n",
    "    print(self.eid)\n",
    "\n",
    "class SA(Parent):\n",
    "  def __init__(self, eid, name,amount):\n",
    "    super().__init__(eid,name)\n",
    "    self.amount = amount\n",
    "\n",
    "x = SA(101,\"Rahul Gandhi\", 5000)\n",
    "\n",
    "x.printmessage()\n"
   ]
  },
  {
   "cell_type": "code",
   "execution_count": null,
   "id": "c3ee580f",
   "metadata": {},
   "outputs": [],
   "source": []
  }
 ],
 "metadata": {
  "kernelspec": {
   "display_name": "Python 3 (ipykernel)",
   "language": "python",
   "name": "python3"
  },
  "language_info": {
   "codemirror_mode": {
    "name": "ipython",
    "version": 3
   },
   "file_extension": ".py",
   "mimetype": "text/x-python",
   "name": "python",
   "nbconvert_exporter": "python",
   "pygments_lexer": "ipython3",
   "version": "3.7.0"
  }
 },
 "nbformat": 4,
 "nbformat_minor": 5
}
